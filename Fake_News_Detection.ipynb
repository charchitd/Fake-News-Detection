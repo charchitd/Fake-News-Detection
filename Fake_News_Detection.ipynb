{
  "nbformat": 4,
  "nbformat_minor": 0,
  "metadata": {
    "colab": {
      "name": "Fake News Detection",
      "version": "0.3.2",
      "provenance": [],
      "collapsed_sections": [],
      "toc_visible": true,
      "include_colab_link": true
    },
    "kernelspec": {
      "name": "python3",
      "display_name": "Python 3"
    },
    "accelerator": "GPU"
  },
  "cells": [
    {
      "cell_type": "markdown",
      "metadata": {
        "id": "view-in-github",
        "colab_type": "text"
      },
      "source": [
        "<a href=\"https://colab.research.google.com/github/saanikagupta/Fake-News-Detection/blob/master/Fake_News_Detection.ipynb\" target=\"_parent\"><img src=\"https://colab.research.google.com/assets/colab-badge.svg\" alt=\"Open In Colab\"/></a>"
      ]
    },
    {
      "cell_type": "code",
      "metadata": {
        "id": "Agl6JEo_gaBT",
        "colab_type": "code",
        "outputId": "98655cec-75b4-4fd8-9070-c1c9d0706ceb",
        "colab": {
          "base_uri": "https://localhost:8080/",
          "height": 67
        }
      },
      "source": [
        "# Importing libraries\n",
        "import numpy as np\n",
        "import pandas as pd\n",
        "import re\n",
        "import nltk\n",
        "from nltk.corpus import stopwords\n",
        "from nltk.stem.porter import PorterStemmer\n",
        "nltk.download('stopwords')\n",
        "from sklearn.preprocessing import LabelEncoder, OneHotEncoder\n",
        "from sklearn.feature_extraction.text import CountVectorizer\n",
        "from sklearn import metrics\n",
        "from keras import utils\n",
        "from keras.models import Sequential\n",
        "from keras.layers import Dense, Dropout\n",
        "from keras import optimizers, callbacks\n",
        "from keras.losses import categorical_crossentropy\n",
        "import tensorflow as tf\n",
        "tf.logging.set_verbosity(tf.logging.ERROR)"
      ],
      "execution_count": 0,
      "outputs": [
        {
          "output_type": "stream",
          "text": [
            "[nltk_data] Downloading package stopwords to /root/nltk_data...\n",
            "[nltk_data]   Package stopwords is already up-to-date!\n"
          ],
          "name": "stdout"
        },
        {
          "output_type": "stream",
          "text": [
            "Using TensorFlow backend.\n"
          ],
          "name": "stderr"
        }
      ]
    },
    {
      "cell_type": "markdown",
      "metadata": {
        "id": "afPkAe0VyuwN",
        "colab_type": "text"
      },
      "source": [
        "# Preprocessing"
      ]
    },
    {
      "cell_type": "code",
      "metadata": {
        "id": "AhqEVz3TPguP",
        "colab_type": "code",
        "colab": {}
      },
      "source": [
        "# Reading the excel file into DataFrame\n",
        "train = pd.read_excel('train.xlsx', header = None, names = ['id',\t'label'\t,'statement',\t'subject',\t'speaker', \t'job', \t'state',\t'party',\t'barely_true_c',\t'false_c',\t'half_true_c',\t'mostly_true_c',\t'pants_on_fire_c',\t'venue'])\n",
        "test = pd.read_excel('test.xlsx', header = None, names = ['id',\t'label'\t,'statement',\t'subject',\t'speaker', \t'job', \t'state',\t'party',\t'barely_true_c',\t'false_c',\t'half_true_c',\t'mostly_true_c',\t'pants_on_fire_c',\t'venue'])\n",
        "val = pd.read_excel('valid.xlsx', header = None, names = ['id',\t'label'\t,'statement',\t'subject',\t'speaker', \t'job', \t'state',\t'party',\t'barely_true_c',\t'false_c',\t'half_true_c',\t'mostly_true_c',\t'pants_on_fire_c',\t'venue'])"
      ],
      "execution_count": 0,
      "outputs": []
    },
    {
      "cell_type": "code",
      "metadata": {
        "id": "enAZ4DvUffVr",
        "colab_type": "code",
        "colab": {}
      },
      "source": [
        "# Dropping the 'id' column\n",
        "train.drop('id', axis = 1, inplace = True)\n",
        "test.drop('id', axis = 1, inplace = True)\n",
        "val.drop('id', axis = 1, inplace = True)"
      ],
      "execution_count": 0,
      "outputs": []
    },
    {
      "cell_type": "code",
      "metadata": {
        "id": "7pEJ-G4yITrd",
        "colab_type": "code",
        "outputId": "a4999c4c-8531-4a1b-9b9a-f139b995a66e",
        "colab": {
          "base_uri": "https://localhost:8080/",
          "height": 602
        }
      },
      "source": [
        "train.head(5)"
      ],
      "execution_count": 0,
      "outputs": [
        {
          "output_type": "execute_result",
          "data": {
            "text/html": [
              "<div>\n",
              "<style scoped>\n",
              "    .dataframe tbody tr th:only-of-type {\n",
              "        vertical-align: middle;\n",
              "    }\n",
              "\n",
              "    .dataframe tbody tr th {\n",
              "        vertical-align: top;\n",
              "    }\n",
              "\n",
              "    .dataframe thead th {\n",
              "        text-align: right;\n",
              "    }\n",
              "</style>\n",
              "<table border=\"1\" class=\"dataframe\">\n",
              "  <thead>\n",
              "    <tr style=\"text-align: right;\">\n",
              "      <th></th>\n",
              "      <th>label</th>\n",
              "      <th>statement</th>\n",
              "      <th>subject</th>\n",
              "      <th>speaker</th>\n",
              "      <th>job</th>\n",
              "      <th>state</th>\n",
              "      <th>party</th>\n",
              "      <th>barely_true_c</th>\n",
              "      <th>false_c</th>\n",
              "      <th>half_true_c</th>\n",
              "      <th>mostly_true_c</th>\n",
              "      <th>pants_on_fire_c</th>\n",
              "      <th>venue</th>\n",
              "    </tr>\n",
              "  </thead>\n",
              "  <tbody>\n",
              "    <tr>\n",
              "      <th>0</th>\n",
              "      <td>False</td>\n",
              "      <td>Says the Annies List political group supports ...</td>\n",
              "      <td>abortion</td>\n",
              "      <td>dwayne-bohac</td>\n",
              "      <td>State representative</td>\n",
              "      <td>Texas</td>\n",
              "      <td>republican</td>\n",
              "      <td>0</td>\n",
              "      <td>1</td>\n",
              "      <td>0</td>\n",
              "      <td>0</td>\n",
              "      <td>0</td>\n",
              "      <td>a mailer</td>\n",
              "    </tr>\n",
              "    <tr>\n",
              "      <th>1</th>\n",
              "      <td>half-true</td>\n",
              "      <td>When did the decline of coal start? It started...</td>\n",
              "      <td>energy,history,job-accomplishments</td>\n",
              "      <td>scott-surovell</td>\n",
              "      <td>State delegate</td>\n",
              "      <td>Virginia</td>\n",
              "      <td>democrat</td>\n",
              "      <td>0</td>\n",
              "      <td>0</td>\n",
              "      <td>1</td>\n",
              "      <td>1</td>\n",
              "      <td>0</td>\n",
              "      <td>a floor speech.</td>\n",
              "    </tr>\n",
              "    <tr>\n",
              "      <th>2</th>\n",
              "      <td>mostly-true</td>\n",
              "      <td>Hillary Clinton agrees with John McCain \"by vo...</td>\n",
              "      <td>foreign-policy</td>\n",
              "      <td>barack-obama</td>\n",
              "      <td>President</td>\n",
              "      <td>Illinois</td>\n",
              "      <td>democrat</td>\n",
              "      <td>70</td>\n",
              "      <td>71</td>\n",
              "      <td>160</td>\n",
              "      <td>163</td>\n",
              "      <td>9</td>\n",
              "      <td>Denver</td>\n",
              "    </tr>\n",
              "    <tr>\n",
              "      <th>3</th>\n",
              "      <td>False</td>\n",
              "      <td>Health care reform legislation is likely to ma...</td>\n",
              "      <td>health-care</td>\n",
              "      <td>blog-posting</td>\n",
              "      <td>NaN</td>\n",
              "      <td>NaN</td>\n",
              "      <td>none</td>\n",
              "      <td>7</td>\n",
              "      <td>19</td>\n",
              "      <td>3</td>\n",
              "      <td>5</td>\n",
              "      <td>44</td>\n",
              "      <td>a news release</td>\n",
              "    </tr>\n",
              "    <tr>\n",
              "      <th>4</th>\n",
              "      <td>half-true</td>\n",
              "      <td>The economic turnaround started at the end of ...</td>\n",
              "      <td>economy,jobs</td>\n",
              "      <td>charlie-crist</td>\n",
              "      <td>NaN</td>\n",
              "      <td>Florida</td>\n",
              "      <td>democrat</td>\n",
              "      <td>15</td>\n",
              "      <td>9</td>\n",
              "      <td>20</td>\n",
              "      <td>19</td>\n",
              "      <td>2</td>\n",
              "      <td>an interview on CNN</td>\n",
              "    </tr>\n",
              "  </tbody>\n",
              "</table>\n",
              "</div>"
            ],
            "text/plain": [
              "         label  ...                venue\n",
              "0        False  ...             a mailer\n",
              "1    half-true  ...      a floor speech.\n",
              "2  mostly-true  ...               Denver\n",
              "3        False  ...       a news release\n",
              "4    half-true  ...  an interview on CNN\n",
              "\n",
              "[5 rows x 13 columns]"
            ]
          },
          "metadata": {
            "tags": []
          },
          "execution_count": 5
        }
      ]
    },
    {
      "cell_type": "code",
      "metadata": {
        "id": "UbFqDO8_U6df",
        "colab_type": "code",
        "outputId": "6c7e60d4-47d4-4039-d4b8-c04547d04d39",
        "colab": {
          "base_uri": "https://localhost:8080/",
          "height": 67
        }
      },
      "source": [
        "# Checking the shape of data\n",
        "print(train.shape)\n",
        "print(val.shape)\n",
        "print(test.shape)"
      ],
      "execution_count": 0,
      "outputs": [
        {
          "output_type": "stream",
          "text": [
            "(10269, 13)\n",
            "(1284, 13)\n",
            "(1283, 13)\n"
          ],
          "name": "stdout"
        }
      ]
    },
    {
      "cell_type": "code",
      "metadata": {
        "id": "iOWJSgwd9Ueo",
        "colab_type": "code",
        "colab": {}
      },
      "source": [
        "# list(train.columns)"
      ],
      "execution_count": 0,
      "outputs": []
    },
    {
      "cell_type": "code",
      "metadata": {
        "id": "w7tTpAClApgJ",
        "colab_type": "code",
        "colab": {}
      },
      "source": [
        "# Function for cleaning the dataset\n",
        "def dataPreprocessing(filename, corpus):\n",
        "  \n",
        "  length = filename.shape[0]\n",
        "  \n",
        "  # Missing values\n",
        "  filename[\"job\"].fillna(\"no-job\", inplace = True)\n",
        "  filename[\"state\"].fillna(\"no-state\", inplace = True)\n",
        "  \n",
        "  for x in range(length):\n",
        "    statement = re.sub('[^a-zA-Z]', ' ', train['statement'][x]) # Removing all numbers and special characters\n",
        "    statement = statement.lower() # Converting uppercase to lowercase\n",
        "    statement = statement.split()\n",
        "    ps = PorterStemmer()\n",
        "    statement = [ps.stem(word) for word in statement if not word in set(stopwords.words('english'))] # Stemming the dataset and removing stopwords\n",
        "    statement = ' '.join(statement)\n",
        "    subject = train['subject'][x].replace(',', ' ')\n",
        "    speaker = train['speaker'][x]\n",
        "    job = train['job'][x].lower()\n",
        "    # job = job.replace(' ', '-')\n",
        "    state = train['state'][x].lower()\n",
        "    party = train['party'][x].lower()\n",
        "    corpus.append(statement + ' '  + subject + ' ' + job + ' ' + state + ' ' + party)\n",
        "  return corpus"
      ],
      "execution_count": 0,
      "outputs": []
    },
    {
      "cell_type": "code",
      "metadata": {
        "id": "uy1ikPhJ9LoS",
        "colab_type": "code",
        "colab": {}
      },
      "source": [
        "corpus = []\n",
        "corpus = dataPreprocessing(train, corpus) # This returns a corpus containing only the train dataset\n",
        "corpus = dataPreprocessing(val, corpus) # This returns a corpus containing train and val dataset\n",
        "corpus = dataPreprocessing(test, corpus) # This returns a corpus containing train, val and test dataset"
      ],
      "execution_count": 0,
      "outputs": []
    },
    {
      "cell_type": "code",
      "metadata": {
        "id": "Td8OtvxEuMep",
        "colab_type": "code",
        "outputId": "bfdea509-d638-4aea-f76a-8e3b1e524342",
        "colab": {
          "base_uri": "https://localhost:8080/",
          "height": 34
        }
      },
      "source": [
        "len(corpus) # 10269 + 1284 + 1283"
      ],
      "execution_count": 0,
      "outputs": [
        {
          "output_type": "execute_result",
          "data": {
            "text/plain": [
              "12836"
            ]
          },
          "metadata": {
            "tags": []
          },
          "execution_count": 10
        }
      ]
    },
    {
      "cell_type": "code",
      "metadata": {
        "id": "sopw2zusZwn4",
        "colab_type": "code",
        "colab": {}
      },
      "source": [
        "# Converting the corpus into bag-of-words\n",
        "cv = CountVectorizer(max_features = 8000)\n",
        "X = cv.fit_transform(corpus).toarray()"
      ],
      "execution_count": 0,
      "outputs": []
    },
    {
      "cell_type": "code",
      "metadata": {
        "id": "o06bP9FJEaMU",
        "colab_type": "code",
        "outputId": "170f01c4-fea8-4a99-94fa-7f54dd6b0826",
        "colab": {
          "base_uri": "https://localhost:8080/",
          "height": 34
        }
      },
      "source": [
        "X.shape"
      ],
      "execution_count": 0,
      "outputs": [
        {
          "output_type": "execute_result",
          "data": {
            "text/plain": [
              "(12836, 8000)"
            ]
          },
          "metadata": {
            "tags": []
          },
          "execution_count": 12
        }
      ]
    },
    {
      "cell_type": "code",
      "metadata": {
        "id": "PoleSkNXjDlq",
        "colab_type": "code",
        "colab": {}
      },
      "source": [
        "# Obtaining the x_train, x_val and x_test from the bag-of-words (As the dataset was merged during preprocessing)\n",
        "x_train = X[: 10269, :]\n",
        "x_val = X[10269 : 11553, :]\n",
        "x_test = X[11553 : 12836, :]"
      ],
      "execution_count": 0,
      "outputs": []
    },
    {
      "cell_type": "code",
      "metadata": {
        "id": "By3hBjkRInk_",
        "colab_type": "code",
        "colab": {}
      },
      "source": [
        "# x_val.shape"
      ],
      "execution_count": 0,
      "outputs": []
    },
    {
      "cell_type": "code",
      "metadata": {
        "id": "RCqMgDpiLDhu",
        "colab_type": "code",
        "colab": {}
      },
      "source": [
        "# Selecting the columns 'barely_true_c',\t'false_c',\t'half_true_c',\t'mostly_true_c',\t'pants_on_fire_c'\n",
        "x_train2 = train.iloc[:, 7: 12]\n",
        "x_val2 = val.iloc[:, 7: 12]\n",
        "x_test2 = test.iloc[:, 7: 12]"
      ],
      "execution_count": 0,
      "outputs": []
    },
    {
      "cell_type": "code",
      "metadata": {
        "id": "r8B4rvSWwY0G",
        "colab_type": "code",
        "outputId": "234e108b-f295-4a19-af63-c8b811ed61e3",
        "colab": {
          "base_uri": "https://localhost:8080/",
          "height": 34
        }
      },
      "source": [
        "type(x_train)"
      ],
      "execution_count": 0,
      "outputs": [
        {
          "output_type": "execute_result",
          "data": {
            "text/plain": [
              "numpy.ndarray"
            ]
          },
          "metadata": {
            "tags": []
          },
          "execution_count": 16
        }
      ]
    },
    {
      "cell_type": "code",
      "metadata": {
        "id": "ZSH02hUmww-Q",
        "colab_type": "code",
        "outputId": "f8c88772-f66b-4525-85bc-4817e38556cc",
        "colab": {
          "base_uri": "https://localhost:8080/",
          "height": 50
        }
      },
      "source": [
        "print(x_train.shape)\n",
        "print(x_train2.shape)"
      ],
      "execution_count": 0,
      "outputs": [
        {
          "output_type": "stream",
          "text": [
            "(10269, 8000)\n",
            "(10269, 5)\n"
          ],
          "name": "stdout"
        }
      ]
    },
    {
      "cell_type": "code",
      "metadata": {
        "id": "QglKXzA_w6DH",
        "colab_type": "code",
        "colab": {}
      },
      "source": [
        "# Stacking x_train and x_train2 horizontally\n",
        "x_train = np.hstack((x_train, x_train2))\n",
        "x_val = np.hstack((x_val, x_val2))\n",
        "x_test = np.hstack((x_test, x_test2))"
      ],
      "execution_count": 0,
      "outputs": []
    },
    {
      "cell_type": "code",
      "metadata": {
        "id": "E3pskgViw99U",
        "colab_type": "code",
        "outputId": "52aee74f-5d69-42ce-de42-8df4c498ecd8",
        "colab": {
          "base_uri": "https://localhost:8080/",
          "height": 34
        }
      },
      "source": [
        "x_train.shape"
      ],
      "execution_count": 0,
      "outputs": [
        {
          "output_type": "execute_result",
          "data": {
            "text/plain": [
              "(10269, 8005)"
            ]
          },
          "metadata": {
            "tags": []
          },
          "execution_count": 19
        }
      ]
    },
    {
      "cell_type": "markdown",
      "metadata": {
        "id": "lmavEzWHrTC8",
        "colab_type": "text"
      },
      "source": [
        "# Six-way classification"
      ]
    },
    {
      "cell_type": "markdown",
      "metadata": {
        "id": "1wAhr39Aq41J",
        "colab_type": "text"
      },
      "source": [
        "## Preprocessing"
      ]
    },
    {
      "cell_type": "code",
      "metadata": {
        "id": "yJwZwMXANg9_",
        "colab_type": "code",
        "colab": {}
      },
      "source": [
        "num_classes = 6\n",
        "# Preprocessing function for the labels\n",
        "def categorize(filename):\n",
        "  y = filename[\"label\"].tolist()\n",
        "  \n",
        "  # Encoding the Dependent Variable\n",
        "  labelencoder_y = LabelEncoder()\n",
        "  y = labelencoder_y.fit_transform(y)\n",
        "  \n",
        "  # Converting to binary class matrix\n",
        "  y = utils.to_categorical(y, num_classes)\n",
        "  return y"
      ],
      "execution_count": 0,
      "outputs": []
    },
    {
      "cell_type": "code",
      "metadata": {
        "id": "XIKTUSM3MJ-u",
        "colab_type": "code",
        "colab": {}
      },
      "source": [
        "y_train = categorize(train)\n",
        "y_test = categorize(test)\n",
        "y_val = categorize(val)"
      ],
      "execution_count": 0,
      "outputs": []
    },
    {
      "cell_type": "code",
      "metadata": {
        "id": "EHUB8YoiMKuf",
        "colab_type": "code",
        "outputId": "b4218476-3d9b-4e5d-8297-691b44d870a0",
        "colab": {
          "base_uri": "https://localhost:8080/",
          "height": 34
        }
      },
      "source": [
        "y_test.shape"
      ],
      "execution_count": 0,
      "outputs": [
        {
          "output_type": "execute_result",
          "data": {
            "text/plain": [
              "(1283, 6)"
            ]
          },
          "metadata": {
            "tags": []
          },
          "execution_count": 22
        }
      ]
    },
    {
      "cell_type": "code",
      "metadata": {
        "id": "FvGloxk1nYk6",
        "colab_type": "code",
        "outputId": "ca2231dd-41c7-433c-a8c2-8dbaa691420d",
        "colab": {
          "base_uri": "https://localhost:8080/",
          "height": 34
        }
      },
      "source": [
        "# Checking for missing values\n",
        "np.where(np.isnan(x_train)) "
      ],
      "execution_count": 0,
      "outputs": [
        {
          "output_type": "execute_result",
          "data": {
            "text/plain": [
              "(array([], dtype=int64), array([], dtype=int64))"
            ]
          },
          "metadata": {
            "tags": []
          },
          "execution_count": 23
        }
      ]
    },
    {
      "cell_type": "code",
      "metadata": {
        "id": "vUBJAiV679sZ",
        "colab_type": "code",
        "outputId": "eeac028c-229c-4268-b82f-bbfed8c45a9e",
        "colab": {
          "base_uri": "https://localhost:8080/",
          "height": 34
        }
      },
      "source": [
        "# Checking for missing values\n",
        "np.where(np.isnan(x_test)) "
      ],
      "execution_count": 0,
      "outputs": [
        {
          "output_type": "execute_result",
          "data": {
            "text/plain": [
              "(array([], dtype=int64), array([], dtype=int64))"
            ]
          },
          "metadata": {
            "tags": []
          },
          "execution_count": 24
        }
      ]
    },
    {
      "cell_type": "code",
      "metadata": {
        "id": "WwnFD18DnaFP",
        "colab_type": "code",
        "outputId": "449e7e6d-a6b6-4b88-f31e-0c1b41db552a",
        "colab": {
          "base_uri": "https://localhost:8080/",
          "height": 34
        }
      },
      "source": [
        "# Checking for missing values\n",
        "np.where(np.isnan(x_val)) "
      ],
      "execution_count": 0,
      "outputs": [
        {
          "output_type": "execute_result",
          "data": {
            "text/plain": [
              "(array([], dtype=int64), array([], dtype=int64))"
            ]
          },
          "metadata": {
            "tags": []
          },
          "execution_count": 25
        }
      ]
    },
    {
      "cell_type": "markdown",
      "metadata": {
        "id": "2Y-dusAUolnI",
        "colab_type": "text"
      },
      "source": [
        "## Artificial Neural Network"
      ]
    },
    {
      "cell_type": "code",
      "metadata": {
        "id": "lTqf04dMcc5c",
        "colab_type": "code",
        "colab": {}
      },
      "source": [
        "# Initializing hyperparameters\n",
        "learn_rate = 0.001\n",
        "batch_size = 500\n",
        "epochs = 10\n",
        "num_classes = 6"
      ],
      "execution_count": 0,
      "outputs": []
    },
    {
      "cell_type": "code",
      "metadata": {
        "id": "WdtAq3cVlSiJ",
        "colab_type": "code",
        "colab": {}
      },
      "source": [
        "seed = 2\n",
        "np.random.seed(seed)\n",
        "\n",
        "# Creating the model\n",
        "model = Sequential()\n",
        "model.add(Dense(8005, activation = 'relu', kernel_initializer = 'glorot_uniform'))\n",
        "model.add(Dropout(0.85))\n",
        "model.add(Dense(121, activation = 'relu'))\n",
        "model.add(Dropout(0.75))\n",
        "model.add(Dense(num_classes, activation = 'softmax'))"
      ],
      "execution_count": 0,
      "outputs": []
    },
    {
      "cell_type": "code",
      "metadata": {
        "id": "n6o7h_C9WPGU",
        "colab_type": "code",
        "colab": {}
      },
      "source": [
        "rmsprop = optimizers.RMSprop(learn_rate)\n",
        "model.compile(loss = categorical_crossentropy, optimizer = rmsprop, metrics = ['accuracy']) # Compile model\n",
        "\n",
        "# Checkpoint\n",
        "filepath = \"weights-improvement-{epoch:02d}-{val_acc:.2f}.hdf5\"\n",
        "checkpoint = callbacks.ModelCheckpoint(filepath, monitor = 'val_acc', save_best_only = False, save_weights_only = False)\n",
        "callbacks_list = [checkpoint]"
      ],
      "execution_count": 0,
      "outputs": []
    },
    {
      "cell_type": "code",
      "metadata": {
        "id": "C-Lb-FCxW3jC",
        "colab_type": "code",
        "outputId": "7a312293-7fe5-4502-c6a2-2021768bd689",
        "colab": {
          "base_uri": "https://localhost:8080/",
          "height": 386
        }
      },
      "source": [
        "# Model fitting\n",
        "model.fit(x_train, y_train, batch_size = batch_size, epochs = epochs, callbacks = callbacks_list, verbose = 1, validation_data = (x_val, y_val))"
      ],
      "execution_count": 0,
      "outputs": [
        {
          "output_type": "stream",
          "text": [
            "Train on 10269 samples, validate on 1284 samples\n",
            "Epoch 1/10\n",
            "10269/10269 [==============================] - 4s 422us/step - loss: 2.0182 - acc: 0.2253 - val_loss: 1.7019 - val_acc: 0.3442\n",
            "Epoch 2/10\n",
            "10269/10269 [==============================] - 3s 297us/step - loss: 1.7136 - acc: 0.2879 - val_loss: 1.5895 - val_acc: 0.4073\n",
            "Epoch 3/10\n",
            "10269/10269 [==============================] - 3s 299us/step - loss: 1.6252 - acc: 0.3403 - val_loss: 1.5055 - val_acc: 0.3995\n",
            "Epoch 4/10\n",
            "10269/10269 [==============================] - 3s 297us/step - loss: 1.5066 - acc: 0.3846 - val_loss: 1.4513 - val_acc: 0.4182\n",
            "Epoch 5/10\n",
            "10269/10269 [==============================] - 3s 298us/step - loss: 1.4630 - acc: 0.4091 - val_loss: 1.4360 - val_acc: 0.4089\n",
            "Epoch 6/10\n",
            "10269/10269 [==============================] - 3s 311us/step - loss: 1.4084 - acc: 0.4341 - val_loss: 1.4729 - val_acc: 0.3902\n",
            "Epoch 7/10\n",
            "10269/10269 [==============================] - 3s 301us/step - loss: 1.3796 - acc: 0.4473 - val_loss: 1.4223 - val_acc: 0.4089\n",
            "Epoch 8/10\n",
            "10269/10269 [==============================] - 3s 294us/step - loss: 1.3270 - acc: 0.4598 - val_loss: 1.4275 - val_acc: 0.4128\n",
            "Epoch 9/10\n",
            "10269/10269 [==============================] - 3s 291us/step - loss: 1.3024 - acc: 0.4708 - val_loss: 1.4455 - val_acc: 0.3941\n",
            "Epoch 10/10\n",
            "10269/10269 [==============================] - 3s 290us/step - loss: 1.2723 - acc: 0.4777 - val_loss: 1.4496 - val_acc: 0.4065\n"
          ],
          "name": "stdout"
        },
        {
          "output_type": "execute_result",
          "data": {
            "text/plain": [
              "<keras.callbacks.History at 0x7f9081ee7b38>"
            ]
          },
          "metadata": {
            "tags": []
          },
          "execution_count": 75
        }
      ]
    },
    {
      "cell_type": "code",
      "metadata": {
        "id": "eise7vdCWClD",
        "colab_type": "code",
        "outputId": "13e61e73-64e7-4493-f7a6-b010cde2c312",
        "colab": {
          "base_uri": "https://localhost:8080/",
          "height": 302
        }
      },
      "source": [
        "model.summary()"
      ],
      "execution_count": 0,
      "outputs": [
        {
          "output_type": "stream",
          "text": [
            "_________________________________________________________________\n",
            "Layer (type)                 Output Shape              Param #   \n",
            "=================================================================\n",
            "dense_13 (Dense)             (None, 8005)              64088030  \n",
            "_________________________________________________________________\n",
            "dropout_9 (Dropout)          (None, 8005)              0         \n",
            "_________________________________________________________________\n",
            "dense_14 (Dense)             (None, 121)               968726    \n",
            "_________________________________________________________________\n",
            "dropout_10 (Dropout)         (None, 121)               0         \n",
            "_________________________________________________________________\n",
            "dense_15 (Dense)             (None, 6)                 732       \n",
            "=================================================================\n",
            "Total params: 65,057,488\n",
            "Trainable params: 65,057,488\n",
            "Non-trainable params: 0\n",
            "_________________________________________________________________\n"
          ],
          "name": "stdout"
        }
      ]
    },
    {
      "cell_type": "markdown",
      "metadata": {
        "id": "3vo9QEmaq9wM",
        "colab_type": "text"
      },
      "source": [
        "## Evaluation"
      ]
    },
    {
      "cell_type": "code",
      "metadata": {
        "id": "Q7-rFk1_ydmP",
        "colab_type": "code",
        "outputId": "f67dfeeb-1f37-4395-e72d-400896abf047",
        "colab": {
          "base_uri": "https://localhost:8080/",
          "height": 34
        }
      },
      "source": [
        "# Loading weights\n",
        "# epoch = 4, train_acc = 38.46%, val_acc = 41.82%\n",
        "model.load_weights(\"weights-improvement-04-0.42.hdf5\")\n",
        "# test_acc = 40.84%\n",
        "\n",
        "# Estimating the accuracy on the test dataset using loaded weights\n",
        "scores = model.evaluate(x_test, y_test, verbose = 0)\n",
        "print(\"%s: %.2f%%\" % (model.metrics_names[1], scores[1]*100))"
      ],
      "execution_count": 0,
      "outputs": [
        {
          "output_type": "stream",
          "text": [
            "acc: 40.84%\n"
          ],
          "name": "stdout"
        }
      ]
    },
    {
      "cell_type": "code",
      "metadata": {
        "id": "6XAeLSFbKJqK",
        "colab_type": "code",
        "colab": {}
      },
      "source": [
        "# y_test\n",
        "y_pred = model.predict(x_test)\n",
        "# y_pred"
      ],
      "execution_count": 0,
      "outputs": []
    },
    {
      "cell_type": "code",
      "metadata": {
        "id": "jTJ2EV09Km83",
        "colab_type": "code",
        "outputId": "50a7c09d-5f9b-4214-82dc-9916565be781",
        "colab": {
          "base_uri": "https://localhost:8080/",
          "height": 34
        }
      },
      "source": [
        "y_pred.argmax(axis = 1)"
      ],
      "execution_count": 0,
      "outputs": [
        {
          "output_type": "execute_result",
          "data": {
            "text/plain": [
              "array([3, 2, 3, ..., 2, 3, 2])"
            ]
          },
          "metadata": {
            "tags": []
          },
          "execution_count": 99
        }
      ]
    },
    {
      "cell_type": "code",
      "metadata": {
        "id": "M7jAxg1yLnGD",
        "colab_type": "code",
        "outputId": "fd458b40-b5b7-4479-c34e-81b818d3976d",
        "colab": {
          "base_uri": "https://localhost:8080/",
          "height": 34
        }
      },
      "source": [
        "y_test.argmax(axis = 1)"
      ],
      "execution_count": 0,
      "outputs": [
        {
          "output_type": "execute_result",
          "data": {
            "text/plain": [
              "array([1, 0, 0, ..., 2, 2, 0])"
            ]
          },
          "metadata": {
            "tags": []
          },
          "execution_count": 100
        }
      ]
    },
    {
      "cell_type": "code",
      "metadata": {
        "id": "qbjvzUwJLukD",
        "colab_type": "code",
        "colab": {}
      },
      "source": [
        "# Building the confusion matrix\n",
        "matrix = metrics.confusion_matrix(y_test.argmax(axis = 1), y_pred.argmax(axis = 1))"
      ],
      "execution_count": 0,
      "outputs": []
    },
    {
      "cell_type": "code",
      "metadata": {
        "id": "QFcuZz1NMDGg",
        "colab_type": "code",
        "outputId": "37cb3a6b-5460-4215-fa9c-70a18904dbac",
        "colab": {
          "base_uri": "https://localhost:8080/",
          "height": 118
        }
      },
      "source": [
        "# Confusion matrix for six-way classification\n",
        "matrix"
      ],
      "execution_count": 0,
      "outputs": [
        {
          "output_type": "execute_result",
          "data": {
            "text/plain": [
              "array([[102,   8,  30,  81,  22,   7],\n",
              "       [ 22,  25,  26,  92,  42,   4],\n",
              "       [ 16,   3,  80,  97,  15,   3],\n",
              "       [ 23,   0,  14, 194,  36,   0],\n",
              "       [ 18,   3,  19, 108,  99,   2],\n",
              "       [ 27,  12,   9,  17,   3,  24]])"
            ]
          },
          "metadata": {
            "tags": []
          },
          "execution_count": 102
        }
      ]
    },
    {
      "cell_type": "markdown",
      "metadata": {
        "id": "ctoTOw2uIK1G",
        "colab_type": "text"
      },
      "source": [
        "# Binary Classification"
      ]
    },
    {
      "cell_type": "markdown",
      "metadata": {
        "id": "2ZJUrQ1SrEBa",
        "colab_type": "text"
      },
      "source": [
        "## Preprocessing"
      ]
    },
    {
      "cell_type": "code",
      "metadata": {
        "id": "eA3wQH1JinNx",
        "colab_type": "code",
        "colab": {}
      },
      "source": [
        "num_classes = 2"
      ],
      "execution_count": 0,
      "outputs": []
    },
    {
      "cell_type": "code",
      "metadata": {
        "id": "Mk-q1zwVF5KZ",
        "colab_type": "code",
        "colab": {}
      },
      "source": [
        "# Function for preprocessing labels\n",
        "def dataPreprocessingBinary(filename):\n",
        "  y = filename[\"label\"].tolist()\n",
        "  \n",
        "  # Changing the 'half-true', 'mostly-true', barely-true', 'pants-fire' labels to True/False for Binary Classification\n",
        "  for x in range(len(y)):\n",
        "    if(y[x] == 'half-true'):\n",
        "       y[x] = 'True'\n",
        "    elif(y[x] == 'mostly-true'):\n",
        "       y[x] = 'True'\n",
        "    elif(y[x] == 'barely-true'):\n",
        "       y[x] = 'False'\n",
        "    elif(y[x] == 'pants-fire'):\n",
        "       y[x] = 'False'\n",
        "  \n",
        "  # Converting the lables into binary class matrix\n",
        "  labelencoder_y = LabelEncoder()\n",
        "  y = labelencoder_y.fit_transform(y)\n",
        "  y = utils.to_categorical(y, num_classes)\n",
        "  return y"
      ],
      "execution_count": 0,
      "outputs": []
    },
    {
      "cell_type": "code",
      "metadata": {
        "id": "REu1ue0xbuqp",
        "colab_type": "code",
        "colab": {}
      },
      "source": [
        "y_train_binary = dataPreprocessingBinary(train)\n",
        "y_test_binary = dataPreprocessingBinary(test)\n",
        "y_val_binary = dataPreprocessingBinary(val)"
      ],
      "execution_count": 0,
      "outputs": []
    },
    {
      "cell_type": "markdown",
      "metadata": {
        "id": "KI4PIrgR01Sd",
        "colab_type": "text"
      },
      "source": [
        "## Artificial Neural Network"
      ]
    },
    {
      "cell_type": "code",
      "metadata": {
        "id": "-J0inPaQb-8Y",
        "colab_type": "code",
        "colab": {}
      },
      "source": [
        "# Hyperparameters\n",
        "learn_rate = 0.001\n",
        "batch_size = 500\n",
        "epochs = 20"
      ],
      "execution_count": 0,
      "outputs": []
    },
    {
      "cell_type": "code",
      "metadata": {
        "id": "YX2A6cSlp163",
        "colab_type": "code",
        "colab": {}
      },
      "source": [
        "seed = 1\n",
        "np.random.seed(seed)\n",
        "\n",
        "# Creating model\n",
        "model = Sequential()\n",
        "model.add(Dense(8005, activation = 'relu', kernel_initializer = 'glorot_uniform'))\n",
        "model.add(Dropout(0.9))\n",
        "model.add(Dense(121, activation = 'relu'))\n",
        "model.add(Dropout(0.8))\n",
        "model.add(Dense(num_classes, activation = 'softmax'))"
      ],
      "execution_count": 0,
      "outputs": []
    },
    {
      "cell_type": "code",
      "metadata": {
        "id": "mLLxmiBh1DXP",
        "colab_type": "code",
        "outputId": "3609c686-e045-45df-a065-b81557a67451",
        "colab": {
          "base_uri": "https://localhost:8080/",
          "height": 70
        }
      },
      "source": [
        "rmsprop = optimizers.RMSprop(learn_rate)\n",
        "model.compile(loss = categorical_crossentropy, optimizer = rmsprop, metrics = ['accuracy']) # Compiling the model\n",
        "\n",
        "# Checkpoint\n",
        "filepath = \"weights-improvement-{epoch:02d}-{val_acc:.2f}.hdf5\"\n",
        "checkpoint = callbacks.ModelCheckpoint(filepath, monitor = 'val_acc', save_best_only = True, save_weights_only = False)\n",
        "callbacks_list = [checkpoint]"
      ],
      "execution_count": 0,
      "outputs": [
        {
          "output_type": "stream",
          "text": [
            "W0809 02:33:41.323594 140237346809728 deprecation_wrapper.py:119] From /usr/local/lib/python3.6/dist-packages/keras/optimizers.py:790: The name tf.train.Optimizer is deprecated. Please use tf.compat.v1.train.Optimizer instead.\n",
            "\n"
          ],
          "name": "stderr"
        }
      ]
    },
    {
      "cell_type": "code",
      "metadata": {
        "id": "0P4qE9q01Gai",
        "colab_type": "code",
        "outputId": "58804b60-b45a-4605-af0b-a5a7e8ce54f3",
        "colab": {
          "base_uri": "https://localhost:8080/",
          "height": 1000
        }
      },
      "source": [
        "# Model fitting\n",
        "model.fit(x_train, y_train_binary, batch_size = batch_size, epochs = epochs, callbacks = callbacks_list, verbose = 1, validation_data = (x_val, y_val_binary))"
      ],
      "execution_count": 0,
      "outputs": [
        {
          "output_type": "stream",
          "text": [
            "W0809 02:34:00.414985 140237346809728 deprecation_wrapper.py:119] From /usr/local/lib/python3.6/dist-packages/keras/backend/tensorflow_backend.py:517: The name tf.placeholder is deprecated. Please use tf.compat.v1.placeholder instead.\n",
            "\n",
            "W0809 02:34:00.420901 140237346809728 deprecation_wrapper.py:119] From /usr/local/lib/python3.6/dist-packages/keras/backend/tensorflow_backend.py:4138: The name tf.random_uniform is deprecated. Please use tf.random.uniform instead.\n",
            "\n",
            "W0809 02:34:00.452592 140237346809728 deprecation_wrapper.py:119] From /usr/local/lib/python3.6/dist-packages/keras/backend/tensorflow_backend.py:133: The name tf.placeholder_with_default is deprecated. Please use tf.compat.v1.placeholder_with_default instead.\n",
            "\n",
            "W0809 02:34:00.469230 140237346809728 deprecation.py:506] From /usr/local/lib/python3.6/dist-packages/keras/backend/tensorflow_backend.py:3445: calling dropout (from tensorflow.python.ops.nn_ops) with keep_prob is deprecated and will be removed in a future version.\n",
            "Instructions for updating:\n",
            "Please use `rate` instead of `keep_prob`. Rate should be set to `rate = 1 - keep_prob`.\n",
            "W0809 02:34:00.470603 140237346809728 nn_ops.py:4224] Large dropout rate: 0.9 (>0.5). In TensorFlow 2.x, dropout() uses dropout rate instead of keep_prob. Please ensure that this is intended.\n",
            "W0809 02:34:00.515024 140237346809728 nn_ops.py:4224] Large dropout rate: 0.8 (>0.5). In TensorFlow 2.x, dropout() uses dropout rate instead of keep_prob. Please ensure that this is intended.\n",
            "W0809 02:34:00.566118 140237346809728 deprecation_wrapper.py:119] From /usr/local/lib/python3.6/dist-packages/keras/backend/tensorflow_backend.py:3295: The name tf.log is deprecated. Please use tf.math.log instead.\n",
            "\n",
            "W0809 02:34:00.718258 140237346809728 deprecation.py:323] From /usr/local/lib/python3.6/dist-packages/tensorflow/python/ops/math_grad.py:1250: add_dispatch_support.<locals>.wrapper (from tensorflow.python.ops.array_ops) is deprecated and will be removed in a future version.\n",
            "Instructions for updating:\n",
            "Use tf.where in 2.0, which has the same broadcast rule as np.where\n"
          ],
          "name": "stderr"
        },
        {
          "output_type": "stream",
          "text": [
            "Train on 10269 samples, validate on 1284 samples\n",
            "Epoch 1/20\n",
            "10269/10269 [==============================] - 8s 791us/step - loss: 0.9597 - acc: 0.5988 - val_loss: 0.6377 - val_acc: 0.6449\n",
            "Epoch 2/20\n",
            "10269/10269 [==============================] - 3s 292us/step - loss: 0.6862 - acc: 0.6531 - val_loss: 0.6094 - val_acc: 0.6667\n",
            "Epoch 3/20\n",
            "10269/10269 [==============================] - 3s 290us/step - loss: 0.6217 - acc: 0.6802 - val_loss: 0.5896 - val_acc: 0.6573\n",
            "Epoch 4/20\n",
            "10269/10269 [==============================] - 3s 291us/step - loss: 0.5856 - acc: 0.7015 - val_loss: 0.5801 - val_acc: 0.6760\n",
            "Epoch 5/20\n",
            "10269/10269 [==============================] - 3s 292us/step - loss: 0.5798 - acc: 0.7082 - val_loss: 0.5920 - val_acc: 0.6783\n",
            "Epoch 6/20\n",
            "10269/10269 [==============================] - 3s 291us/step - loss: 0.5537 - acc: 0.7140 - val_loss: 0.5762 - val_acc: 0.6674\n",
            "Epoch 7/20\n",
            "10269/10269 [==============================] - 3s 293us/step - loss: 0.5498 - acc: 0.7214 - val_loss: 0.5827 - val_acc: 0.6573\n",
            "Epoch 8/20\n",
            "10269/10269 [==============================] - 3s 298us/step - loss: 0.5358 - acc: 0.7271 - val_loss: 0.5860 - val_acc: 0.6690\n",
            "Epoch 9/20\n",
            "10269/10269 [==============================] - 3s 296us/step - loss: 0.5266 - acc: 0.7309 - val_loss: 0.6005 - val_acc: 0.6565\n",
            "Epoch 10/20\n",
            "10269/10269 [==============================] - 3s 297us/step - loss: 0.5140 - acc: 0.7387 - val_loss: 0.6005 - val_acc: 0.6706\n",
            "Epoch 11/20\n",
            "10269/10269 [==============================] - 3s 292us/step - loss: 0.5092 - acc: 0.7447 - val_loss: 0.6208 - val_acc: 0.6620\n",
            "Epoch 12/20\n",
            "10269/10269 [==============================] - 3s 291us/step - loss: 0.5063 - acc: 0.7445 - val_loss: 0.6363 - val_acc: 0.6433\n",
            "Epoch 13/20\n",
            "10269/10269 [==============================] - 3s 294us/step - loss: 0.4974 - acc: 0.7511 - val_loss: 0.6420 - val_acc: 0.6488\n",
            "Epoch 14/20\n",
            "10269/10269 [==============================] - 3s 290us/step - loss: 0.4868 - acc: 0.7492 - val_loss: 0.6502 - val_acc: 0.6581\n",
            "Epoch 15/20\n",
            "10269/10269 [==============================] - 3s 290us/step - loss: 0.4843 - acc: 0.7519 - val_loss: 0.6535 - val_acc: 0.6573\n",
            "Epoch 16/20\n",
            "10269/10269 [==============================] - 3s 292us/step - loss: 0.4921 - acc: 0.7555 - val_loss: 0.6635 - val_acc: 0.6449\n",
            "Epoch 17/20\n",
            "10269/10269 [==============================] - 3s 295us/step - loss: 0.4781 - acc: 0.7574 - val_loss: 0.6787 - val_acc: 0.6488\n",
            "Epoch 18/20\n",
            "10269/10269 [==============================] - 3s 295us/step - loss: 0.4736 - acc: 0.7628 - val_loss: 0.6909 - val_acc: 0.6410\n",
            "Epoch 19/20\n",
            "10269/10269 [==============================] - 3s 292us/step - loss: 0.4631 - acc: 0.7662 - val_loss: 0.7080 - val_acc: 0.6456\n",
            "Epoch 20/20\n",
            "10269/10269 [==============================] - 3s 294us/step - loss: 0.4716 - acc: 0.7641 - val_loss: 0.7132 - val_acc: 0.6371\n"
          ],
          "name": "stdout"
        },
        {
          "output_type": "execute_result",
          "data": {
            "text/plain": [
              "<keras.callbacks.History at 0x7f8b34bf4b00>"
            ]
          },
          "metadata": {
            "tags": []
          },
          "execution_count": 33
        }
      ]
    },
    {
      "cell_type": "code",
      "metadata": {
        "id": "lSARnjeO1UuS",
        "colab_type": "code",
        "outputId": "9eb64bdd-4f16-471f-dcd4-3307d581cc14",
        "colab": {
          "base_uri": "https://localhost:8080/",
          "height": 302
        }
      },
      "source": [
        "model.summary()"
      ],
      "execution_count": 0,
      "outputs": [
        {
          "output_type": "stream",
          "text": [
            "_________________________________________________________________\n",
            "Layer (type)                 Output Shape              Param #   \n",
            "=================================================================\n",
            "dense_1 (Dense)              (None, 8005)              64088030  \n",
            "_________________________________________________________________\n",
            "dropout_1 (Dropout)          (None, 8005)              0         \n",
            "_________________________________________________________________\n",
            "dense_2 (Dense)              (None, 121)               968726    \n",
            "_________________________________________________________________\n",
            "dropout_2 (Dropout)          (None, 121)               0         \n",
            "_________________________________________________________________\n",
            "dense_3 (Dense)              (None, 2)                 244       \n",
            "=================================================================\n",
            "Total params: 65,057,000\n",
            "Trainable params: 65,057,000\n",
            "Non-trainable params: 0\n",
            "_________________________________________________________________\n"
          ],
          "name": "stdout"
        }
      ]
    },
    {
      "cell_type": "markdown",
      "metadata": {
        "id": "Pkms2bBYrMMv",
        "colab_type": "text"
      },
      "source": [
        "## Evaluation"
      ]
    },
    {
      "cell_type": "code",
      "metadata": {
        "id": "YUywo4vp1XNE",
        "colab_type": "code",
        "outputId": "6dce3440-88bc-4393-8caf-b1c19a730f09",
        "colab": {
          "base_uri": "https://localhost:8080/",
          "height": 34
        }
      },
      "source": [
        "# Loading weights\n",
        "# epoch = 4, train_acc = 70.15%, val_acc = 67.6%\n",
        "model.load_weights(\"weights-improvement-04-0.68.hdf5\")\n",
        "# test_acc = 69.91%\n",
        "\n",
        "# Estimating the accuracy on the test dataset using loaded weights\n",
        "scores = model.evaluate(x_test, y_test_binary, verbose = 0)\n",
        "print(\"%s: %.2f%%\" % (model.metrics_names[1], scores[1]*100))"
      ],
      "execution_count": 0,
      "outputs": [
        {
          "output_type": "stream",
          "text": [
            "acc: 69.91%\n"
          ],
          "name": "stdout"
        }
      ]
    },
    {
      "cell_type": "code",
      "metadata": {
        "id": "ue_Not4U2c7R",
        "colab_type": "code",
        "colab": {}
      },
      "source": [
        "y_pred = model.predict(x_test) # Predicting y for x_test\n",
        "matrix = metrics.confusion_matrix(y_test_binary.argmax(axis = 1), y_pred.argmax(axis = 1)) # Building the confusion matrix"
      ],
      "execution_count": 0,
      "outputs": []
    },
    {
      "cell_type": "code",
      "metadata": {
        "id": "sfDVbK_v2zhK",
        "colab_type": "code",
        "outputId": "2694b012-f7e4-493b-d8e1-945911620766",
        "colab": {
          "base_uri": "https://localhost:8080/",
          "height": 50
        }
      },
      "source": [
        "# Confusion matrix for binary classification\n",
        "matrix"
      ],
      "execution_count": 0,
      "outputs": [
        {
          "output_type": "execute_result",
          "data": {
            "text/plain": [
              "array([[309, 247],\n",
              "       [139, 588]])"
            ]
          },
          "metadata": {
            "tags": []
          },
          "execution_count": 40
        }
      ]
    }
  ]
}
